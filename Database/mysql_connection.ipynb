{
 "cells": [
  {
   "cell_type": "code",
   "execution_count": 89,
   "metadata": {},
   "outputs": [],
   "source": [
    "import pymysql\n",
    "import configparser\n",
    "import uuid\n",
    "import random\n",
    "from datetime import datetime"
   ]
  },
  {
   "cell_type": "code",
   "execution_count": 90,
   "metadata": {},
   "outputs": [],
   "source": [
    "#Create Tables\n",
    "connection = pymysql.connect(host='127.0.0.1',user='root',password='b3nsch1a',database='augmenting_algos')\n",
    "cursor = connection.cursor()\n",
    "\n",
    "sql_user_table = \"\"\"CREATE TABLE USERS (\n",
    "\n",
    "   USER_ID  CHAR(100),\n",
    "   NAME  CHAR(100),\n",
    "   TYPE  CHAR(100),  \n",
    "   HISTORICAL_PERFORMANCE FLOAT\n",
    "   )\"\"\"\n",
    "\n",
    "sql_predictions_table = \"\"\"CREATE TABLE PREDICTIONS (\n",
    "\n",
    "   PREDICTION_ID  CHAR(50),\n",
    "   USER_ID  CHAR(50),\n",
    "   DATE  TIMESTAMP,  \n",
    "   PREDICTION LONGTEXT\n",
    "   )\"\"\"\n",
    "\n",
    "sql_outcome_table = \"\"\"CREATE TABLE OUTCOME (\n",
    "\n",
    "   OUTCOME_ID  CHAR(50),\n",
    "   PREDICTION_ID  CHAR(50),\n",
    "   OUTCOME  LONGTEXT  \n",
    "   )\"\"\"\n",
    "\n",
    "cursor.execute(sql_user_table)\n",
    "cursor.execute(sql_predictions_table)\n",
    "cursor.execute(sql_outcome_table)\n",
    "connection.close()"
   ]
  },
  {
   "cell_type": "code",
   "execution_count": 91,
   "metadata": {},
   "outputs": [],
   "source": [
    "#Create Test Data \n",
    "userData = []\n",
    "for i in range(0,5):\n",
    "    userData.append((uuid.uuid4(),\"Test Name {}\".format(i),\"Test Type {}\".format(i),round(random.uniform(0, 1),2)))\n",
    "\n",
    "predictionData = []\n",
    "for i in range(0,5):\n",
    "    predictionData.append((uuid.uuid4(),userData[i][0],datetime.now().strftime('%Y-%m-%d %H:%M:%S') ,\"Test Prediction {}\".format(i)))\n",
    "\n",
    "outcomeData = []\n",
    "for i in range(0,5):\n",
    "    outcomeData.append((uuid.uuid4(),predictionData[i][0],\" Test Outcome {}\".format(i)))\n"
   ]
  },
  {
   "cell_type": "code",
   "execution_count": 92,
   "metadata": {},
   "outputs": [],
   "source": [
    "#Add data \n",
    "\n",
    "connection = pymysql.connect(host='127.0.0.1',user='root',password='b3nsch1a',database='augmenting_algos')\n",
    "insert_user_data = \"\"\"INSERT INTO USERS (USER_ID, NAME, TYPE, HISTORICAL_PERFORMANCE) \n",
    "                                VALUES (%s, %s, %s, %s) \"\"\"\n",
    "\n",
    "insert_prediction_data = \"\"\"INSERT INTO PREDICTIONS (PREDICTION_ID, USER_ID, DATE, PREDICTION) \n",
    "                                VALUES (%s, %s, %s, %s) \"\"\"\n",
    "\n",
    "insert_outcome_data = \"\"\"INSERT INTO OUTCOME (OUTCOME_ID, PREDICTION_ID, OUTCOME) \n",
    "                                VALUES (%s, %s, %s) \"\"\"\n",
    "\n",
    "cursor = connection.cursor()\n",
    "\n",
    "cursor.executemany(insert_user_data, userData)\n",
    "cursor.executemany(insert_prediction_data, predictionData)\n",
    "cursor.executemany(insert_outcome_data, outcomeData)\n",
    "\n",
    "connection.commit()\n",
    "connection.close()"
   ]
  },
  {
   "cell_type": "code",
   "execution_count": null,
   "metadata": {},
   "outputs": [],
   "source": []
  }
 ],
 "metadata": {
  "kernelspec": {
   "display_name": "Python 3.8.6 64-bit",
   "language": "python",
   "name": "python3"
  },
  "language_info": {
   "codemirror_mode": {
    "name": "ipython",
    "version": 3
   },
   "file_extension": ".py",
   "mimetype": "text/x-python",
   "name": "python",
   "nbconvert_exporter": "python",
   "pygments_lexer": "ipython3",
   "version": "3.8.6"
  },
  "orig_nbformat": 4,
  "vscode": {
   "interpreter": {
    "hash": "0adcc2737ebf6a4a119f135174df96668767fca1ef1112612db5ecadf2b6d608"
   }
  }
 },
 "nbformat": 4,
 "nbformat_minor": 2
}
